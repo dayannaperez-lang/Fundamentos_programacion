{
 "cells": [
  {
   "cell_type": "code",
   "execution_count": null,
   "id": "fb4ea681",
   "metadata": {},
   "outputs": [],
   "source": [
    "## libraries\n",
    "\n",
    "import pandas as pd\n",
    "import numpy as np\n",
    "import random\n",
    "import math\n",
    "import itertools\n",
    "from itertools import combinations"
   ]
  },
  {
   "cell_type": "markdown",
   "id": "d66ec644",
   "metadata": {},
   "source": [
    "#### Problem #  1 \n",
    "\n",
    "Given five positive integers, find the minimum and maximum values that can be calculated by summing exactly four of the five integers. Then print the respective minimum and maximum values as a single line of two space-separated long integers."
   ]
  },
  {
   "cell_type": "code",
   "execution_count": 2,
   "id": "fcd47659",
   "metadata": {},
   "outputs": [
    {
     "name": "stdout",
     "output_type": "stream",
     "text": [
      "the random integers are the following numbers :  [92 70 39 51 54]\n",
      "214 267\n"
     ]
    }
   ],
   "source": [
    "random_integers = np.random.randint(100, size = 5)\n",
    "\n",
    "print(f'the random integers are the following numbers :  {random_integers}')\n",
    "\n",
    "def min_max_summ (random_integers : list) ->int: \n",
    "\n",
    "    random_integers.sort()\n",
    "    min_sum = random_integers[:4].sum()\n",
    "    max_sum = random_integers [1:5].sum()\n",
    "    return print(min_sum , max_sum)\n",
    "\n",
    "results =  min_max_summ(random_integers = random_integers)"
   ]
  },
  {
   "cell_type": "markdown",
   "id": "bb8c9bb5",
   "metadata": {},
   "source": [
    "#### Problem # 2\n",
    "\n",
    "A  operation on a circular array shifts each of the array's elements  unit to the left. The elements that fall off the left end reappear at the right end. Given an integer , rotate the array that many steps to the left and return the result."
   ]
  },
  {
   "cell_type": "code",
   "execution_count": 3,
   "id": "0b4647e0",
   "metadata": {},
   "outputs": [
    {
     "name": "stdout",
     "output_type": "stream",
     "text": [
      "the random integers are the following numbers :  [29, 56, 50, 75, 55]\n",
      "before of 2 left rotations the new order is:[50, 75, 55, 29, 56]\n"
     ]
    }
   ],
   "source": [
    "def left_rotation (n : int, d_rotation : int) -> list: \n",
    "\n",
    "    random_integers = np.random.randint(100, size = n).tolist()\n",
    "\n",
    "    print(f'the random integers are the following numbers :  {random_integers}')\n",
    " \n",
    "    rotation = d_rotation + 1 \n",
    "    new_values_rotated = random_integers [-rotation:] + random_integers [:-rotation]\n",
    "\n",
    "    return print(f'before of {d_rotation} left rotations the new order is:{new_values_rotated}')\n",
    "\n",
    "results =  left_rotation( n = 5, d_rotation = 2 )"
   ]
  },
  {
   "cell_type": "markdown",
   "id": "111158a0",
   "metadata": {},
   "source": [
    "#### Problem # 3\n",
    "\n",
    "Write a program that prints a staircase of size n. Function Description : Complete the  function with the following parameter(s):\n",
    "int n: an integer. Print: Print a staircase as described above. No value should be returned. Note: The last line is not preceded by spaces. All lines are right-aligned."
   ]
  },
  {
   "cell_type": "code",
   "execution_count": 4,
   "id": "2ee1799a",
   "metadata": {},
   "outputs": [
    {
     "name": "stdout",
     "output_type": "stream",
     "text": [
      "      \n",
      "     #\n",
      "    ##\n",
      "   ###\n",
      "  ####\n",
      " #####\n",
      "######\n"
     ]
    }
   ],
   "source": [
    "def staircase (n: int) -> str: \n",
    "      string = '#' \n",
    "      n_1 = n+1\n",
    "      len_staircase = list(range(n_1))\n",
    "                \n",
    "      for i in len_staircase: \n",
    "          \n",
    "          spaces = n                  \n",
    "          striped_string = ((string * len_staircase[i]).rjust(spaces))\n",
    "          print(striped_string)   \n",
    "\n",
    "results = staircase (n = 6)    "
   ]
  },
  {
   "cell_type": "markdown",
   "id": "baee322a",
   "metadata": {},
   "source": [
    "### Problem 4\n",
    "\n",
    "Two friends like to pool their money and go to the ice cream parlor. They always choose two distinct flavors and they spend all of their money. Given a list of prices for the flavors of ice cream, select the two that will cost all of the money they have."
   ]
  },
  {
   "cell_type": "code",
   "execution_count": null,
   "id": "5caadc34",
   "metadata": {},
   "outputs": [],
   "source": [
    "budget = np.random.randint(low = 1, high = 10, size = 1).astype(int)\n",
    "prices =  np.random.randint(low = 1, high = 10, size = 5).tolist()\n",
    "\n",
    "def ice_cream_price_selector(prices: list, budget: int) -> list:\n",
    "           \n",
    "        combinations = []\n",
    "        summatory = []\n",
    "        selected_combinations = []\n",
    "\n",
    "        for i in itertools.combinations(prices, 2):\n",
    "                \n",
    "                summ = i[0] + i[1]\n",
    "                summatory.append(summ)\n",
    "                combinations.append(i)\n",
    "        \n",
    "        for idx, value_summ in enumerate(summatory):\n",
    "                if value_summ == budget: \n",
    "                        selected_combinations.append(idx)    \n",
    "\n",
    "        results = [combinations[i] for i in selected_combinations]               \n",
    "                                  \n",
    "        return results"
   ]
  },
  {
   "cell_type": "code",
   "execution_count": 26,
   "id": "a087ac8c",
   "metadata": {},
   "outputs": [
    {
     "data": {
      "text/plain": [
       "array([7])"
      ]
     },
     "execution_count": 26,
     "metadata": {},
     "output_type": "execute_result"
    }
   ],
   "source": [
    "budget"
   ]
  },
  {
   "cell_type": "code",
   "execution_count": 27,
   "id": "c5695d05",
   "metadata": {},
   "outputs": [
    {
     "data": {
      "text/plain": [
       "[1, 5, 6, 9, 8]"
      ]
     },
     "execution_count": 27,
     "metadata": {},
     "output_type": "execute_result"
    }
   ],
   "source": [
    "prices"
   ]
  },
  {
   "cell_type": "code",
   "execution_count": 28,
   "id": "9f59bbf0",
   "metadata": {},
   "outputs": [
    {
     "data": {
      "text/plain": [
       "[(1, 6)]"
      ]
     },
     "execution_count": 28,
     "metadata": {},
     "output_type": "execute_result"
    }
   ],
   "source": [
    "prueba = ice_cream_price_selector (prices= prices, budget= budget)\n",
    "prueba"
   ]
  },
  {
   "cell_type": "markdown",
   "id": "7615a30d",
   "metadata": {},
   "source": [
    "### Problem 5 \n",
    "\n",
    "Julius Caesar protected his confidential information by encrypting it using a cipher. Caesar's cipher shifts each letter by a number of letters. If the shift takes you past the end of the alphabet, just rotate back to the front of the alphabet. In the case of a rotation by 3, w, x, y and z would map to z, a, b and c. Note: The cipher only encrypts letters; symbols, such as -, remain unencrypted.\n",
    "\n"
   ]
  },
  {
   "cell_type": "code",
   "execution_count": 9,
   "id": "49a5d751",
   "metadata": {},
   "outputs": [],
   "source": [
    "def ceasars_cipher (text : str, n_rotation : int)-> str:\n",
    "    \n",
    "    alphabet = ['a','b','c','d','e','f','g','h','i','j','k','l','m','n','o','p','q','r','s','t','u','v','w','x','y','z']\n",
    "     \n",
    "    rotation = n_rotation + 1 \n",
    "    alphabet_rotated = alphabet [-rotation:] + alphabet [:-rotation]\n",
    "\n",
    "    cipher = {value: alphabet_rotated[i] for i, value in enumerate (alphabet)}\n",
    "\n",
    "    list_text = list(text)\n",
    "    new_text = [cipher.get (letter, letter) for letter in list_text]\n",
    "\n",
    "    return print(''.join(new_text)) "
   ]
  },
  {
   "cell_type": "code",
   "execution_count": 10,
   "id": "8dc60152",
   "metadata": {},
   "outputs": [
    {
     "name": "stdout",
     "output_type": "stream",
     "text": [
      "elix, ¿ Cljl bpqxp ? \n"
     ]
    }
   ],
   "source": [
    "_ = ceasars_cipher (text=  'hola, ¿ Como estas ? ', n_rotation= 2)"
   ]
  }
 ],
 "metadata": {
  "kernelspec": {
   "display_name": ".conda",
   "language": "python",
   "name": "python3"
  },
  "language_info": {
   "codemirror_mode": {
    "name": "ipython",
    "version": 3
   },
   "file_extension": ".py",
   "mimetype": "text/x-python",
   "name": "python",
   "nbconvert_exporter": "python",
   "pygments_lexer": "ipython3",
   "version": "3.12.7"
  }
 },
 "nbformat": 4,
 "nbformat_minor": 5
}
